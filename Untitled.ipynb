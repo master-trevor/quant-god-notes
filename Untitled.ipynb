{
 "cells": [
  {
   "cell_type": "markdown",
   "id": "379c999e-f6c1-47cc-b1f1-b62f7136826d",
   "metadata": {},
   "source": [
    "# 📘 Quant Refresher Cheat Sheet\n",
    "\n",
    "---\n",
    "\n",
    "## 1. Logarithm Rules\n",
    "- $\\ln(ab) = \\ln a + \\ln b$  \n",
    "- $\\ln\\!\\left(\\tfrac{a}{b}\\right) = \\ln a - \\ln b$  \n",
    "- $\\ln(a^c) = c \\ln a$  \n",
    "- $\\ln\\!\\left(\\tfrac{1}{a}\\right) = -\\ln a$  \n",
    "- Expansion (small $x$):  \n",
    "  $\\ln(1+x) \\approx x - \\tfrac{x^2}{2} + \\tfrac{x^3}{3} - \\dots$\n",
    "\n",
    "---\n",
    "\n",
    "## 2. Exponential Rules\n",
    "- $e^{a+b} = e^a \\cdot e^b$  \n",
    "- $e^{\\ln a} = a, \\quad a > 0$  \n",
    "- $\\ln(e^x) = x$  \n",
    "- $\\tfrac{d}{dx} e^x = e^x$  \n",
    "- $\\tfrac{d}{dx} \\ln(x) = \\tfrac{1}{x}, \\quad x > 0$\n",
    "\n",
    "---\n",
    "\n",
    "## 3. Factorials & Approximations\n",
    "- $n! = n \\cdot (n-1) \\cdot (n-2) \\cdots 1$  \n",
    "- Stirling’s Approximation:  \n",
    "  $n! \\;\\approx\\; \\sqrt{2 \\pi n}\\,\\Big(\\tfrac{n}{e}\\Big)^n$  \n",
    "- Binomial coefficient:  \n",
    "  $\\binom{n}{k} = \\tfrac{n!}{k!\\,(n-k)!}$\n",
    "\n",
    "---\n",
    "\n",
    "## 4. Taylor Expansions (around 0)\n",
    "- $e^x \\;\\approx\\; 1 + x + \\tfrac{x^2}{2} + \\tfrac{x^3}{6} + \\dots$  \n",
    "- $\\ln(1+x) \\;\\approx\\; x - \\tfrac{x^2}{2} + \\tfrac{x^3}{3} - \\dots$  \n",
    "- $\\sin(x) \\;\\approx\\; x - \\tfrac{x^3}{3!} + \\tfrac{x^5}{5!} - \\dots$  \n",
    "- $\\cos(x) \\;\\approx\\; 1 - \\tfrac{x^2}{2} + \\tfrac{x^4}{4!} - \\dots$\n",
    "\n",
    "---\n",
    "\n",
    "## 5. Standard Normal Quick Facts\n",
    "- PDF:  \n",
    "  $\\phi(z) = \\tfrac{1}{\\sqrt{2\\pi}} \\, e^{-z^2/2}$  \n",
    "\n",
    "- Empirical Rule (CDF values):  \n",
    "  $P(|Z| < 1) \\approx 0.68$  \n",
    "  $P(|Z| < 2) \\approx 0.95$  \n",
    "  $P(|Z| < 3) \\approx 0.997$  \n"
   ]
  },
  {
   "cell_type": "code",
   "execution_count": null,
   "id": "c38aa7fc-5fee-492d-97e5-7f3cd6a3fdfe",
   "metadata": {},
   "outputs": [],
   "source": []
  }
 ],
 "metadata": {
  "kernelspec": {
   "display_name": "Python (god-core)",
   "language": "python",
   "name": "god-core"
  },
  "language_info": {
   "codemirror_mode": {
    "name": "ipython",
    "version": 3
   },
   "file_extension": ".py",
   "mimetype": "text/x-python",
   "name": "python",
   "nbconvert_exporter": "python",
   "pygments_lexer": "ipython3",
   "version": "3.10.9"
  }
 },
 "nbformat": 4,
 "nbformat_minor": 5
}
